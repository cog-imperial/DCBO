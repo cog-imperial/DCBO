{
 "cells": [
  {
   "cell_type": "markdown",
   "id": "13ae15be",
   "metadata": {},
   "source": [
    "# DCBO: Dependence in Constrained Bayesian Optimization\n",
    "\n",
    "This repository is the official implementation of the paper [\"Dependence in constrained Bayesian optimization: When do we need it and how does it help?\"](https://link.springer.com/article/10.1007/s11590-023-02047-z).\n",
    "\n",
    "The BibTex reference is:\n",
    "\n",
    "    @article{zhang2023dependence,\n",
    "        title={Dependence in constrained Bayesian optimization: When do we need it and how does it help?},\n",
    "        author={Zhang, Shiqiang and Lee, Robert M and Shafei, Behrang and Walz, David and Misener, Ruth},\n",
    "        journal={Optimization Letters},\n",
    "        pages={1--17},\n",
    "        year={2023},\n",
    "        publisher={Springer}\n",
    "    }\n",
    "\n",
    "\n",
    "To install requirements:\n",
    "\n",
    "```setup\n",
    "pip install -r requirements.txt\n",
    "```\n",
    "\n",
    "To optimize a function with different methods shown in the paper, run this command:\n",
    "\n",
    "```\n",
    "python main.py $fun_index $method_index $budget\n",
    "```\n",
    "where \\$fun_index is the index of function, \\$method_index is the index of method, and \\$budget is the number of iterations.\n",
    "\n",
    "**Note:** $16$ benchmarks and $6$ methods are supported. One can check `main.py` to these benchmarks and methods.\n",
    "\n",
    "\n",
    "The rest of the files correspond to:\n",
    "- acquisitions.py: implements six acquisitions used in the paper, consist of two unconstrained acquisitions (`constrained_expected_improvement` and `constrained_adaptive_sampling`) and three ways to calculate the possibility of feasibility (`independent_probability_of_feasibility`, `dependent_probability_of_feasibility`, and `independent_probability_of_feasibility_MOGP`).\n",
    "\n",
    "- functions.py: defines all benchmarks used in the paper.\n",
    "\n",
    "- models.py: implements two models used in the paper (`Independent_MOGP` and `Dependent_MOGP`). The first one consists of multiple Gaussian processes, the second one is a multiple output Gaussian process.\n",
    "\n",
    "- plot_utils.py: plots numerical results.\n",
    "\n",
    "\n",
    "# Contributors:\n",
    "Shiqiang Zhang. Funded by an Imperial College Hans Rausing PhD Scholarship."
   ]
  },
  {
   "cell_type": "code",
   "execution_count": null,
   "id": "67bb55e6",
   "metadata": {},
   "outputs": [],
   "source": []
  }
 ],
 "metadata": {
  "kernelspec": {
   "display_name": "GNN_OMLT",
   "language": "python",
   "name": "gnn_omlt"
  },
  "language_info": {
   "codemirror_mode": {
    "name": "ipython",
    "version": 3
   },
   "file_extension": ".py",
   "mimetype": "text/x-python",
   "name": "python",
   "nbconvert_exporter": "python",
   "pygments_lexer": "ipython3",
   "version": "3.9.13"
  }
 },
 "nbformat": 4,
 "nbformat_minor": 5
}
